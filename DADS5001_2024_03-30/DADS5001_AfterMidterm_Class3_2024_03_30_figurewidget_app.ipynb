{
  "cells": [
    {
      "cell_type": "markdown",
      "metadata": {
        "id": "view-in-github",
        "colab_type": "text"
      },
      "source": [
        "<a href=\"https://colab.research.google.com/github/NattachaiJairak/DADS5001_AFTER_MIDTERM/blob/main/DADS5001_2024_03-30/DADS5001_AfterMidterm_Class3_2024_03_30_figurewidget_app.ipynb\" target=\"_parent\"><img src=\"https://colab.research.google.com/assets/colab-badge.svg\" alt=\"Open In Colab\"/></a>"
      ]
    },
    {
      "cell_type": "markdown",
      "source": [
        "https://plotly.com/python/v3/figurewidget-app/#version-check"
      ],
      "metadata": {
        "id": "p2bz5xJxurBC"
      },
      "id": "p2bz5xJxurBC"
    },
    {
      "cell_type": "markdown",
      "source": [
        "Interactive Data Analysis with FigureWidget ipywidgets in Python/v3"
      ],
      "metadata": {
        "id": "N9mMkOJmuurK"
      },
      "id": "N9mMkOJmuurK"
    },
    {
      "cell_type": "markdown",
      "source": [
        "**New to Plotly?**\n",
        "Plotly's Python library is free and open source! Get started by downloading the client and reading the primer.\n",
        "You can set up Plotly to work in online or offline mode, or in jupyter notebooks.\n",
        "We also have a quick-reference cheatsheet (new!) to help you get started!"
      ],
      "metadata": {
        "id": "yPo1QpFBuwuT"
      },
      "id": "yPo1QpFBuwuT"
    },
    {
      "cell_type": "markdown",
      "source": [
        "**Version Check**\n",
        "Plotly's python package is updated frequently. Run pip install plotly --upgrade to use the latest version."
      ],
      "metadata": {
        "id": "Hod5Df0Bu0F0"
      },
      "id": "Hod5Df0Bu0F0"
    },
    {
      "cell_type": "code",
      "source": [
        "import plotly\n",
        "plotly.__version__"
      ],
      "metadata": {
        "colab": {
          "base_uri": "https://localhost:8080/",
          "height": 35
        },
        "id": "y-Jrr58wu7Fm",
        "outputId": "9e343a43-86e5-4561-e295-00d5a54ece97"
      },
      "id": "y-Jrr58wu7Fm",
      "execution_count": null,
      "outputs": [
        {
          "output_type": "execute_result",
          "data": {
            "text/plain": [
              "'5.15.0'"
            ],
            "application/vnd.google.colaboratory.intrinsic+json": {
              "type": "string"
            }
          },
          "metadata": {},
          "execution_count": 1
        }
      ]
    },
    {
      "cell_type": "markdown",
      "source": [
        "**NYC Flights Database**"
      ],
      "metadata": {
        "id": "6rkVOKMsvIzt"
      },
      "id": "6rkVOKMsvIzt"
    },
    {
      "cell_type": "code",
      "execution_count": null,
      "id": "5cde09d0",
      "metadata": {
        "id": "5cde09d0"
      },
      "outputs": [],
      "source": [
        "import datetime\n",
        "import numpy as np\n",
        "import pandas as pd\n",
        "import plotly.graph_objects as go\n",
        "from ipywidgets import widgets"
      ]
    },
    {
      "cell_type": "code",
      "source": [
        "from google.colab import output\n",
        "output.enable_custom_widget_manager()"
      ],
      "metadata": {
        "id": "hi97eVIYLTZ1"
      },
      "id": "hi97eVIYLTZ1",
      "execution_count": null,
      "outputs": []
    },
    {
      "cell_type": "markdown",
      "source": [
        "Support for third party widgets will remain active for the duration of the session. To disable support:"
      ],
      "metadata": {
        "id": "Kr_wDyMGLTZ_"
      },
      "id": "Kr_wDyMGLTZ_"
    },
    {
      "cell_type": "markdown",
      "source": [
        "We'll be making an application to take a look at delays from all flights out of NYC in the year 2013."
      ],
      "metadata": {
        "id": "F7NDAX6VvQjx"
      },
      "id": "F7NDAX6VvQjx"
    },
    {
      "cell_type": "code",
      "execution_count": null,
      "id": "f855194f",
      "metadata": {
        "id": "f855194f"
      },
      "outputs": [],
      "source": [
        "df = pd.read_csv(\n",
        "    'https://raw.githubusercontent.com/yankev/testing/master/datasets/nycflights.csv')\n",
        "df = df.drop(df.columns[[0]], axis=1)"
      ]
    },
    {
      "cell_type": "code",
      "source": [
        "df.sample(3)"
      ],
      "metadata": {
        "colab": {
          "base_uri": "https://localhost:8080/",
          "height": 143
        },
        "id": "jbe6Chr3vS-_",
        "outputId": "a95dfea6-9251-4206-d77b-149b34db2b75"
      },
      "id": "jbe6Chr3vS-_",
      "execution_count": null,
      "outputs": [
        {
          "output_type": "execute_result",
          "data": {
            "text/plain": [
              "        year  month  day  dep_time  dep_delay  arr_time  arr_delay carrier  \\\n",
              "227353  2013      6    6    1532.0       -3.0    1752.0       -8.0      MQ   \n",
              "73203   2013     11   19    1728.0       -7.0    2021.0       -6.0      B6   \n",
              "178526  2013      4   15     902.0       -3.0    1204.0       10.0      B6   \n",
              "\n",
              "       tailnum  flight origin dest  air_time  distance  hour  minute  \n",
              "227353  N738MQ    4525    LGA  XNA     169.0      1147  15.0    32.0  \n",
              "73203   N646JB     327    EWR  MCO     135.0       937  17.0    28.0  \n",
              "178526  N766JB      57    JFK  PBI     164.0      1028   9.0     2.0  "
            ],
            "text/html": [
              "\n",
              "  <div id=\"df-fddc1e65-7918-43b2-aa44-9ba06046f406\" class=\"colab-df-container\">\n",
              "    <div>\n",
              "<style scoped>\n",
              "    .dataframe tbody tr th:only-of-type {\n",
              "        vertical-align: middle;\n",
              "    }\n",
              "\n",
              "    .dataframe tbody tr th {\n",
              "        vertical-align: top;\n",
              "    }\n",
              "\n",
              "    .dataframe thead th {\n",
              "        text-align: right;\n",
              "    }\n",
              "</style>\n",
              "<table border=\"1\" class=\"dataframe\">\n",
              "  <thead>\n",
              "    <tr style=\"text-align: right;\">\n",
              "      <th></th>\n",
              "      <th>year</th>\n",
              "      <th>month</th>\n",
              "      <th>day</th>\n",
              "      <th>dep_time</th>\n",
              "      <th>dep_delay</th>\n",
              "      <th>arr_time</th>\n",
              "      <th>arr_delay</th>\n",
              "      <th>carrier</th>\n",
              "      <th>tailnum</th>\n",
              "      <th>flight</th>\n",
              "      <th>origin</th>\n",
              "      <th>dest</th>\n",
              "      <th>air_time</th>\n",
              "      <th>distance</th>\n",
              "      <th>hour</th>\n",
              "      <th>minute</th>\n",
              "    </tr>\n",
              "  </thead>\n",
              "  <tbody>\n",
              "    <tr>\n",
              "      <th>227353</th>\n",
              "      <td>2013</td>\n",
              "      <td>6</td>\n",
              "      <td>6</td>\n",
              "      <td>1532.0</td>\n",
              "      <td>-3.0</td>\n",
              "      <td>1752.0</td>\n",
              "      <td>-8.0</td>\n",
              "      <td>MQ</td>\n",
              "      <td>N738MQ</td>\n",
              "      <td>4525</td>\n",
              "      <td>LGA</td>\n",
              "      <td>XNA</td>\n",
              "      <td>169.0</td>\n",
              "      <td>1147</td>\n",
              "      <td>15.0</td>\n",
              "      <td>32.0</td>\n",
              "    </tr>\n",
              "    <tr>\n",
              "      <th>73203</th>\n",
              "      <td>2013</td>\n",
              "      <td>11</td>\n",
              "      <td>19</td>\n",
              "      <td>1728.0</td>\n",
              "      <td>-7.0</td>\n",
              "      <td>2021.0</td>\n",
              "      <td>-6.0</td>\n",
              "      <td>B6</td>\n",
              "      <td>N646JB</td>\n",
              "      <td>327</td>\n",
              "      <td>EWR</td>\n",
              "      <td>MCO</td>\n",
              "      <td>135.0</td>\n",
              "      <td>937</td>\n",
              "      <td>17.0</td>\n",
              "      <td>28.0</td>\n",
              "    </tr>\n",
              "    <tr>\n",
              "      <th>178526</th>\n",
              "      <td>2013</td>\n",
              "      <td>4</td>\n",
              "      <td>15</td>\n",
              "      <td>902.0</td>\n",
              "      <td>-3.0</td>\n",
              "      <td>1204.0</td>\n",
              "      <td>10.0</td>\n",
              "      <td>B6</td>\n",
              "      <td>N766JB</td>\n",
              "      <td>57</td>\n",
              "      <td>JFK</td>\n",
              "      <td>PBI</td>\n",
              "      <td>164.0</td>\n",
              "      <td>1028</td>\n",
              "      <td>9.0</td>\n",
              "      <td>2.0</td>\n",
              "    </tr>\n",
              "  </tbody>\n",
              "</table>\n",
              "</div>\n",
              "    <div class=\"colab-df-buttons\">\n",
              "\n",
              "  <div class=\"colab-df-container\">\n",
              "    <button class=\"colab-df-convert\" onclick=\"convertToInteractive('df-fddc1e65-7918-43b2-aa44-9ba06046f406')\"\n",
              "            title=\"Convert this dataframe to an interactive table.\"\n",
              "            style=\"display:none;\">\n",
              "\n",
              "  <svg xmlns=\"http://www.w3.org/2000/svg\" height=\"24px\" viewBox=\"0 -960 960 960\">\n",
              "    <path d=\"M120-120v-720h720v720H120Zm60-500h600v-160H180v160Zm220 220h160v-160H400v160Zm0 220h160v-160H400v160ZM180-400h160v-160H180v160Zm440 0h160v-160H620v160ZM180-180h160v-160H180v160Zm440 0h160v-160H620v160Z\"/>\n",
              "  </svg>\n",
              "    </button>\n",
              "\n",
              "  <style>\n",
              "    .colab-df-container {\n",
              "      display:flex;\n",
              "      gap: 12px;\n",
              "    }\n",
              "\n",
              "    .colab-df-convert {\n",
              "      background-color: #E8F0FE;\n",
              "      border: none;\n",
              "      border-radius: 50%;\n",
              "      cursor: pointer;\n",
              "      display: none;\n",
              "      fill: #1967D2;\n",
              "      height: 32px;\n",
              "      padding: 0 0 0 0;\n",
              "      width: 32px;\n",
              "    }\n",
              "\n",
              "    .colab-df-convert:hover {\n",
              "      background-color: #E2EBFA;\n",
              "      box-shadow: 0px 1px 2px rgba(60, 64, 67, 0.3), 0px 1px 3px 1px rgba(60, 64, 67, 0.15);\n",
              "      fill: #174EA6;\n",
              "    }\n",
              "\n",
              "    .colab-df-buttons div {\n",
              "      margin-bottom: 4px;\n",
              "    }\n",
              "\n",
              "    [theme=dark] .colab-df-convert {\n",
              "      background-color: #3B4455;\n",
              "      fill: #D2E3FC;\n",
              "    }\n",
              "\n",
              "    [theme=dark] .colab-df-convert:hover {\n",
              "      background-color: #434B5C;\n",
              "      box-shadow: 0px 1px 3px 1px rgba(0, 0, 0, 0.15);\n",
              "      filter: drop-shadow(0px 1px 2px rgba(0, 0, 0, 0.3));\n",
              "      fill: #FFFFFF;\n",
              "    }\n",
              "  </style>\n",
              "\n",
              "    <script>\n",
              "      const buttonEl =\n",
              "        document.querySelector('#df-fddc1e65-7918-43b2-aa44-9ba06046f406 button.colab-df-convert');\n",
              "      buttonEl.style.display =\n",
              "        google.colab.kernel.accessAllowed ? 'block' : 'none';\n",
              "\n",
              "      async function convertToInteractive(key) {\n",
              "        const element = document.querySelector('#df-fddc1e65-7918-43b2-aa44-9ba06046f406');\n",
              "        const dataTable =\n",
              "          await google.colab.kernel.invokeFunction('convertToInteractive',\n",
              "                                                    [key], {});\n",
              "        if (!dataTable) return;\n",
              "\n",
              "        const docLinkHtml = 'Like what you see? Visit the ' +\n",
              "          '<a target=\"_blank\" href=https://colab.research.google.com/notebooks/data_table.ipynb>data table notebook</a>'\n",
              "          + ' to learn more about interactive tables.';\n",
              "        element.innerHTML = '';\n",
              "        dataTable['output_type'] = 'display_data';\n",
              "        await google.colab.output.renderOutput(dataTable, element);\n",
              "        const docLink = document.createElement('div');\n",
              "        docLink.innerHTML = docLinkHtml;\n",
              "        element.appendChild(docLink);\n",
              "      }\n",
              "    </script>\n",
              "  </div>\n",
              "\n",
              "\n",
              "<div id=\"df-7014d02b-2a0e-4504-9216-91b1ca2bbba0\">\n",
              "  <button class=\"colab-df-quickchart\" onclick=\"quickchart('df-7014d02b-2a0e-4504-9216-91b1ca2bbba0')\"\n",
              "            title=\"Suggest charts\"\n",
              "            style=\"display:none;\">\n",
              "\n",
              "<svg xmlns=\"http://www.w3.org/2000/svg\" height=\"24px\"viewBox=\"0 0 24 24\"\n",
              "     width=\"24px\">\n",
              "    <g>\n",
              "        <path d=\"M19 3H5c-1.1 0-2 .9-2 2v14c0 1.1.9 2 2 2h14c1.1 0 2-.9 2-2V5c0-1.1-.9-2-2-2zM9 17H7v-7h2v7zm4 0h-2V7h2v10zm4 0h-2v-4h2v4z\"/>\n",
              "    </g>\n",
              "</svg>\n",
              "  </button>\n",
              "\n",
              "<style>\n",
              "  .colab-df-quickchart {\n",
              "      --bg-color: #E8F0FE;\n",
              "      --fill-color: #1967D2;\n",
              "      --hover-bg-color: #E2EBFA;\n",
              "      --hover-fill-color: #174EA6;\n",
              "      --disabled-fill-color: #AAA;\n",
              "      --disabled-bg-color: #DDD;\n",
              "  }\n",
              "\n",
              "  [theme=dark] .colab-df-quickchart {\n",
              "      --bg-color: #3B4455;\n",
              "      --fill-color: #D2E3FC;\n",
              "      --hover-bg-color: #434B5C;\n",
              "      --hover-fill-color: #FFFFFF;\n",
              "      --disabled-bg-color: #3B4455;\n",
              "      --disabled-fill-color: #666;\n",
              "  }\n",
              "\n",
              "  .colab-df-quickchart {\n",
              "    background-color: var(--bg-color);\n",
              "    border: none;\n",
              "    border-radius: 50%;\n",
              "    cursor: pointer;\n",
              "    display: none;\n",
              "    fill: var(--fill-color);\n",
              "    height: 32px;\n",
              "    padding: 0;\n",
              "    width: 32px;\n",
              "  }\n",
              "\n",
              "  .colab-df-quickchart:hover {\n",
              "    background-color: var(--hover-bg-color);\n",
              "    box-shadow: 0 1px 2px rgba(60, 64, 67, 0.3), 0 1px 3px 1px rgba(60, 64, 67, 0.15);\n",
              "    fill: var(--button-hover-fill-color);\n",
              "  }\n",
              "\n",
              "  .colab-df-quickchart-complete:disabled,\n",
              "  .colab-df-quickchart-complete:disabled:hover {\n",
              "    background-color: var(--disabled-bg-color);\n",
              "    fill: var(--disabled-fill-color);\n",
              "    box-shadow: none;\n",
              "  }\n",
              "\n",
              "  .colab-df-spinner {\n",
              "    border: 2px solid var(--fill-color);\n",
              "    border-color: transparent;\n",
              "    border-bottom-color: var(--fill-color);\n",
              "    animation:\n",
              "      spin 1s steps(1) infinite;\n",
              "  }\n",
              "\n",
              "  @keyframes spin {\n",
              "    0% {\n",
              "      border-color: transparent;\n",
              "      border-bottom-color: var(--fill-color);\n",
              "      border-left-color: var(--fill-color);\n",
              "    }\n",
              "    20% {\n",
              "      border-color: transparent;\n",
              "      border-left-color: var(--fill-color);\n",
              "      border-top-color: var(--fill-color);\n",
              "    }\n",
              "    30% {\n",
              "      border-color: transparent;\n",
              "      border-left-color: var(--fill-color);\n",
              "      border-top-color: var(--fill-color);\n",
              "      border-right-color: var(--fill-color);\n",
              "    }\n",
              "    40% {\n",
              "      border-color: transparent;\n",
              "      border-right-color: var(--fill-color);\n",
              "      border-top-color: var(--fill-color);\n",
              "    }\n",
              "    60% {\n",
              "      border-color: transparent;\n",
              "      border-right-color: var(--fill-color);\n",
              "    }\n",
              "    80% {\n",
              "      border-color: transparent;\n",
              "      border-right-color: var(--fill-color);\n",
              "      border-bottom-color: var(--fill-color);\n",
              "    }\n",
              "    90% {\n",
              "      border-color: transparent;\n",
              "      border-bottom-color: var(--fill-color);\n",
              "    }\n",
              "  }\n",
              "</style>\n",
              "\n",
              "  <script>\n",
              "    async function quickchart(key) {\n",
              "      const quickchartButtonEl =\n",
              "        document.querySelector('#' + key + ' button');\n",
              "      quickchartButtonEl.disabled = true;  // To prevent multiple clicks.\n",
              "      quickchartButtonEl.classList.add('colab-df-spinner');\n",
              "      try {\n",
              "        const charts = await google.colab.kernel.invokeFunction(\n",
              "            'suggestCharts', [key], {});\n",
              "      } catch (error) {\n",
              "        console.error('Error during call to suggestCharts:', error);\n",
              "      }\n",
              "      quickchartButtonEl.classList.remove('colab-df-spinner');\n",
              "      quickchartButtonEl.classList.add('colab-df-quickchart-complete');\n",
              "    }\n",
              "    (() => {\n",
              "      let quickchartButtonEl =\n",
              "        document.querySelector('#df-7014d02b-2a0e-4504-9216-91b1ca2bbba0 button');\n",
              "      quickchartButtonEl.style.display =\n",
              "        google.colab.kernel.accessAllowed ? 'block' : 'none';\n",
              "    })();\n",
              "  </script>\n",
              "</div>\n",
              "    </div>\n",
              "  </div>\n"
            ],
            "application/vnd.google.colaboratory.intrinsic+json": {
              "type": "dataframe",
              "summary": "{\n  \"name\": \"df\",\n  \"rows\": 3,\n  \"fields\": [\n    {\n      \"column\": \"year\",\n      \"properties\": {\n        \"dtype\": \"number\",\n        \"std\": 0,\n        \"min\": 2013,\n        \"max\": 2013,\n        \"num_unique_values\": 1,\n        \"samples\": [\n          2013\n        ],\n        \"semantic_type\": \"\",\n        \"description\": \"\"\n      }\n    },\n    {\n      \"column\": \"month\",\n      \"properties\": {\n        \"dtype\": \"number\",\n        \"std\": 3,\n        \"min\": 4,\n        \"max\": 11,\n        \"num_unique_values\": 3,\n        \"samples\": [\n          6\n        ],\n        \"semantic_type\": \"\",\n        \"description\": \"\"\n      }\n    },\n    {\n      \"column\": \"day\",\n      \"properties\": {\n        \"dtype\": \"number\",\n        \"std\": 6,\n        \"min\": 6,\n        \"max\": 19,\n        \"num_unique_values\": 3,\n        \"samples\": [\n          6\n        ],\n        \"semantic_type\": \"\",\n        \"description\": \"\"\n      }\n    },\n    {\n      \"column\": \"dep_time\",\n      \"properties\": {\n        \"dtype\": \"number\",\n        \"std\": 431.58467689821117,\n        \"min\": 902.0,\n        \"max\": 1728.0,\n        \"num_unique_values\": 3,\n        \"samples\": [\n          1532.0\n        ],\n        \"semantic_type\": \"\",\n        \"description\": \"\"\n      }\n    },\n    {\n      \"column\": \"dep_delay\",\n      \"properties\": {\n        \"dtype\": \"number\",\n        \"std\": 2.309401076758503,\n        \"min\": -7.0,\n        \"max\": -3.0,\n        \"num_unique_values\": 2,\n        \"samples\": [\n          -7.0\n        ],\n        \"semantic_type\": \"\",\n        \"description\": \"\"\n      }\n    },\n    {\n      \"column\": \"arr_time\",\n      \"properties\": {\n        \"dtype\": \"number\",\n        \"std\": 416.36402342181293,\n        \"min\": 1204.0,\n        \"max\": 2021.0,\n        \"num_unique_values\": 3,\n        \"samples\": [\n          1752.0\n        ],\n        \"semantic_type\": \"\",\n        \"description\": \"\"\n      }\n    },\n    {\n      \"column\": \"arr_delay\",\n      \"properties\": {\n        \"dtype\": \"number\",\n        \"std\": 9.865765724632496,\n        \"min\": -8.0,\n        \"max\": 10.0,\n        \"num_unique_values\": 3,\n        \"samples\": [\n          -8.0\n        ],\n        \"semantic_type\": \"\",\n        \"description\": \"\"\n      }\n    },\n    {\n      \"column\": \"carrier\",\n      \"properties\": {\n        \"dtype\": \"string\",\n        \"num_unique_values\": 2,\n        \"samples\": [\n          \"B6\"\n        ],\n        \"semantic_type\": \"\",\n        \"description\": \"\"\n      }\n    },\n    {\n      \"column\": \"tailnum\",\n      \"properties\": {\n        \"dtype\": \"string\",\n        \"num_unique_values\": 3,\n        \"samples\": [\n          \"N738MQ\"\n        ],\n        \"semantic_type\": \"\",\n        \"description\": \"\"\n      }\n    },\n    {\n      \"column\": \"flight\",\n      \"properties\": {\n        \"dtype\": \"number\",\n        \"std\": 2505,\n        \"min\": 57,\n        \"max\": 4525,\n        \"num_unique_values\": 3,\n        \"samples\": [\n          4525\n        ],\n        \"semantic_type\": \"\",\n        \"description\": \"\"\n      }\n    },\n    {\n      \"column\": \"origin\",\n      \"properties\": {\n        \"dtype\": \"string\",\n        \"num_unique_values\": 3,\n        \"samples\": [\n          \"LGA\"\n        ],\n        \"semantic_type\": \"\",\n        \"description\": \"\"\n      }\n    },\n    {\n      \"column\": \"dest\",\n      \"properties\": {\n        \"dtype\": \"string\",\n        \"num_unique_values\": 3,\n        \"samples\": [\n          \"XNA\"\n        ],\n        \"semantic_type\": \"\",\n        \"description\": \"\"\n      }\n    },\n    {\n      \"column\": \"air_time\",\n      \"properties\": {\n        \"dtype\": \"number\",\n        \"std\": 18.35755975068582,\n        \"min\": 135.0,\n        \"max\": 169.0,\n        \"num_unique_values\": 3,\n        \"samples\": [\n          169.0\n        ],\n        \"semantic_type\": \"\",\n        \"description\": \"\"\n      }\n    },\n    {\n      \"column\": \"distance\",\n      \"properties\": {\n        \"dtype\": \"number\",\n        \"std\": 105,\n        \"min\": 937,\n        \"max\": 1147,\n        \"num_unique_values\": 3,\n        \"samples\": [\n          1147\n        ],\n        \"semantic_type\": \"\",\n        \"description\": \"\"\n      }\n    },\n    {\n      \"column\": \"hour\",\n      \"properties\": {\n        \"dtype\": \"number\",\n        \"std\": 4.163331998932265,\n        \"min\": 9.0,\n        \"max\": 17.0,\n        \"num_unique_values\": 3,\n        \"samples\": [\n          15.0\n        ],\n        \"semantic_type\": \"\",\n        \"description\": \"\"\n      }\n    },\n    {\n      \"column\": \"minute\",\n      \"properties\": {\n        \"dtype\": \"number\",\n        \"std\": 16.289055630494158,\n        \"min\": 2.0,\n        \"max\": 32.0,\n        \"num_unique_values\": 3,\n        \"samples\": [\n          32.0\n        ],\n        \"semantic_type\": \"\",\n        \"description\": \"\"\n      }\n    }\n  ]\n}"
            }
          },
          "metadata": {},
          "execution_count": 8
        }
      ]
    },
    {
      "cell_type": "markdown",
      "source": [
        "Let's get the set of all the airlines, so that we can type the right things into the search box later."
      ],
      "metadata": {
        "id": "4su9VGGnvV6j"
      },
      "id": "4su9VGGnvV6j"
    },
    {
      "cell_type": "code",
      "source": [
        "df['carrier'].unique()"
      ],
      "metadata": {
        "colab": {
          "base_uri": "https://localhost:8080/"
        },
        "id": "Tty6zT_EvXlh",
        "outputId": "ea6fd49e-f567-4ab2-b0a2-dade23c6feb4"
      },
      "id": "Tty6zT_EvXlh",
      "execution_count": null,
      "outputs": [
        {
          "output_type": "execute_result",
          "data": {
            "text/plain": [
              "array(['UA', 'AA', 'B6', 'DL', 'EV', 'MQ', 'US', 'WN', 'VX', 'FL', 'AS',\n",
              "       '9E', 'F9', 'HA', 'YV', 'OO'], dtype=object)"
            ]
          },
          "metadata": {},
          "execution_count": 9
        }
      ]
    },
    {
      "cell_type": "markdown",
      "source": [
        "Let's assign the widgets that we're going to be using in our app. In general all these widgets will be used to filter the data set, and thus what we visualize."
      ],
      "metadata": {
        "id": "Upt6gxHavZpg"
      },
      "id": "Upt6gxHavZpg"
    },
    {
      "cell_type": "markdown",
      "source": [
        "1. Design"
      ],
      "metadata": {
        "id": "9EC16DS8n6Py"
      },
      "id": "9EC16DS8n6Py"
    },
    {
      "cell_type": "code",
      "execution_count": null,
      "id": "b685d6f5",
      "metadata": {
        "id": "b685d6f5"
      },
      "outputs": [],
      "source": [
        "month = widgets.IntSlider(\n",
        "    value=1.0,\n",
        "    min=1.0,\n",
        "    max=12.0,\n",
        "    step=1.0,\n",
        "    description='Month:',\n",
        "    continuous_update=False\n",
        ")\n",
        "\n",
        "use_date = widgets.Checkbox(\n",
        "    description='Date: ',\n",
        "    value=True,\n",
        ")\n",
        "\n",
        "myw1 = widgets.ColorPicker()\n",
        "\n",
        "container = widgets.HBox(children=[use_date, month, myw1, widgets.DatePicker()])\n",
        "\n",
        "textbox = widgets.Dropdown(\n",
        "    description='Airline:   ',\n",
        "    value='DL',\n",
        "    options=df['carrier'].unique().tolist()\n",
        ")\n",
        "\n",
        "origin = widgets.Dropdown(\n",
        "    options=list(df['origin'].unique()),\n",
        "    value='LGA',\n",
        "    description='Origin Airport:',\n",
        ")\n",
        "\n",
        "\n",
        "\n",
        "# Assign an empty figure widget with two traces\n",
        "trace1 = go.Histogram(x=df['arr_delay'], opacity=0.75, name='Arrival Delays')\n",
        "trace2 = go.Histogram(x=df['dep_delay'], opacity=0.75, name='Departure Delays')\n",
        "g = go.FigureWidget(data=[trace1, trace2],\n",
        "                    layout=go.Layout(\n",
        "                        title=dict(\n",
        "                            text='NYC FlightDatabase'\n",
        "                        ),\n",
        "                        barmode='overlay'\n",
        "                    ))"
      ]
    },
    {
      "cell_type": "markdown",
      "source": [
        "2. Action"
      ],
      "metadata": {
        "id": "Ekv5BSlAoqYw"
      },
      "id": "Ekv5BSlAoqYw"
    },
    {
      "cell_type": "markdown",
      "source": [
        "Let now write a function that will handle the input from the widgets, and alter the state of the graph."
      ],
      "metadata": {
        "id": "GT2G6255vczx"
      },
      "id": "GT2G6255vczx"
    },
    {
      "cell_type": "code",
      "execution_count": null,
      "id": "d2084f72",
      "metadata": {
        "id": "d2084f72"
      },
      "outputs": [],
      "source": [
        "def validate():\n",
        "    if origin.value in df['origin'].unique() and textbox.value in df['carrier'].unique():\n",
        "        return True\n",
        "    else:\n",
        "        return False\n",
        "\n",
        "\n",
        "def response(change):\n",
        "    if validate():\n",
        "        if use_date.value:\n",
        "            filter_list = [i and j and k for i, j, k in\n",
        "                           zip(df['month'] == month.value, df['carrier'] == textbox.value,\n",
        "                               df['origin'] == origin.value)]\n",
        "            print(filter_list)\n",
        "            temp_df = df[filter_list]\n",
        "\n",
        "        else:\n",
        "            filter_list = [i and j for i, j in\n",
        "                           zip(df['carrier'] == 'DL', df['origin'] == origin.value)]\n",
        "            temp_df = df[filter_list]\n",
        "        x1 = temp_df['arr_delay']\n",
        "        x2 = temp_df['dep_delay']\n",
        "        with g.batch_update():\n",
        "            g.data[0].x = x1\n",
        "            g.data[1].x = x2\n",
        "            g.layout.barmode = 'overlay'\n",
        "            g.layout.xaxis.title = 'Delay in Minutes'\n",
        "            g.layout.yaxis.title = 'Number of Delays'\n",
        "            g.layout.plot_bgcolor = myw1.value\n",
        "\n",
        "\n",
        "origin.observe(response, names=\"value\")\n",
        "textbox.observe(response, names=\"value\")\n",
        "month.observe(response, names=\"value\")\n",
        "use_date.observe(response, names=\"value\")\n",
        "myw1.observe(response,names=\"value\")"
      ]
    },
    {
      "cell_type": "markdown",
      "source": [
        "Time to try the app out!!"
      ],
      "metadata": {
        "id": "vIKsiCRNves7"
      },
      "id": "vIKsiCRNves7"
    },
    {
      "cell_type": "code",
      "execution_count": null,
      "id": "334d2264",
      "metadata": {
        "colab": {
          "base_uri": "https://localhost:8080/",
          "height": 441,
          "referenced_widgets": [
            "1c0f0744be8a4d38aa94c45f9fd2293a",
            "e3f977e6728743d3867fd9578cd59972",
            "653001f8b4c24cb98e1cb01f69490bd9",
            "b8394ad6589145699257bb29edcdb9c6",
            "e63bbe93e3e64a88b9a7bbb385baef5c",
            "25579094364b457fbf33287e9adca318",
            "6ffe9252d9984f3d9d16c66aa692aa07",
            "0534597a077e4d6a94be250eae83f26a",
            "cf5cdf57a9924fb0bbb7d7ab5b1505ea",
            "0bd888080d8741ad81bd86ebda6137a5",
            "7bb84038fbd1410abc49f75188e329a7",
            "0eb7b3b598a9489e9c5fa089952a4752",
            "dc859ce479944d27b5f984e933044699",
            "09e223155a164587a6465b87b39c1f7c",
            "314b323c2a104dbdb2f65140bc70c3b0",
            "476b27945f7a43a8971fd193c3590e3b",
            "7ea7b6ccdad64166b5f466c69b1dd492",
            "c61cb44e65094785856471be4cce1d7c",
            "ba8403e1a791462d9a44b984eb9c4b69",
            "380df12bcea4458e855f221e76a4f248",
            "89a31b6e0cdf4ca0bf77a1a4dcc875a9",
            "e618219df1db4e5b9d199f5e12856ebf",
            "c62d20780a7142ba990b0203c83bda61",
            "03fca4a798fa42c29e3a6bd7e99c3641",
            "bdab4d3b01a54efc8f55784700325a73"
          ]
        },
        "id": "334d2264",
        "outputId": "572ae17b-bdff-49ab-ba8a-77dfe464e8b6"
      },
      "outputs": [
        {
          "output_type": "display_data",
          "data": {
            "text/plain": [
              "VBox(children=(HBox(children=(Checkbox(value=True, description='Date: '), IntSlider(value=1, continuous_update…"
            ],
            "application/vnd.jupyter.widget-view+json": {
              "version_major": 2,
              "version_minor": 0,
              "model_id": "1c0f0744be8a4d38aa94c45f9fd2293a"
            }
          },
          "metadata": {
            "application/vnd.jupyter.widget-view+json": {
              "colab": {
                "custom_widget_manager": {
                  "url": "https://ssl.gstatic.com/colaboratory-static/widgets/colab-cdn-widget-manager/2b70e893a8ba7c0f/manager.min.js"
                }
              }
            }
          }
        }
      ],
      "source": [
        "container2 = widgets.HBox([origin, textbox])\n",
        "widgets.VBox([container,\n",
        "              container2,\n",
        "              g])"
      ]
    },
    {
      "cell_type": "code",
      "execution_count": null,
      "id": "b48f72ec",
      "metadata": {
        "id": "b48f72ec"
      },
      "outputs": [],
      "source": []
    }
  ],
  "metadata": {
    "kernelspec": {
      "display_name": "Python 3 (ipykernel)",
      "language": "python",
      "name": "python3"
    },
    "language_info": {
      "codemirror_mode": {
        "name": "ipython",
        "version": 3
      },
      "file_extension": ".py",
      "mimetype": "text/x-python",
      "name": "python",
      "nbconvert_exporter": "python",
      "pygments_lexer": "ipython3",
      "version": "3.11.4"
    },
    "colab": {
      "provenance": [],
      "name": "DADS5001_AfterMidterm_Class3_2024-03-30_figurewidget-app.ipynb",
      "include_colab_link": true
    },
    "widgets": {
      "application/vnd.jupyter.widget-state+json": {
        "1c0f0744be8a4d38aa94c45f9fd2293a": {
          "model_module": "@jupyter-widgets/controls",
          "model_name": "VBoxModel",
          "model_module_version": "1.5.0",
          "state": {
            "_dom_classes": [],
            "_model_module": "@jupyter-widgets/controls",
            "_model_module_version": "1.5.0",
            "_model_name": "VBoxModel",
            "_view_count": null,
            "_view_module": "@jupyter-widgets/controls",
            "_view_module_version": "1.5.0",
            "_view_name": "VBoxView",
            "box_style": "",
            "children": [
              "IPY_MODEL_e3f977e6728743d3867fd9578cd59972",
              "IPY_MODEL_653001f8b4c24cb98e1cb01f69490bd9",
              "IPY_MODEL_b8394ad6589145699257bb29edcdb9c6"
            ],
            "layout": "IPY_MODEL_e63bbe93e3e64a88b9a7bbb385baef5c"
          }
        },
        "e3f977e6728743d3867fd9578cd59972": {
          "model_module": "@jupyter-widgets/controls",
          "model_name": "HBoxModel",
          "model_module_version": "1.5.0",
          "state": {
            "_dom_classes": [],
            "_model_module": "@jupyter-widgets/controls",
            "_model_module_version": "1.5.0",
            "_model_name": "HBoxModel",
            "_view_count": null,
            "_view_module": "@jupyter-widgets/controls",
            "_view_module_version": "1.5.0",
            "_view_name": "HBoxView",
            "box_style": "",
            "children": [
              "IPY_MODEL_25579094364b457fbf33287e9adca318",
              "IPY_MODEL_6ffe9252d9984f3d9d16c66aa692aa07",
              "IPY_MODEL_0534597a077e4d6a94be250eae83f26a",
              "IPY_MODEL_cf5cdf57a9924fb0bbb7d7ab5b1505ea"
            ],
            "layout": "IPY_MODEL_0bd888080d8741ad81bd86ebda6137a5"
          }
        },
        "653001f8b4c24cb98e1cb01f69490bd9": {
          "model_module": "@jupyter-widgets/controls",
          "model_name": "HBoxModel",
          "model_module_version": "1.5.0",
          "state": {
            "_dom_classes": [],
            "_model_module": "@jupyter-widgets/controls",
            "_model_module_version": "1.5.0",
            "_model_name": "HBoxModel",
            "_view_count": null,
            "_view_module": "@jupyter-widgets/controls",
            "_view_module_version": "1.5.0",
            "_view_name": "HBoxView",
            "box_style": "",
            "children": [
              "IPY_MODEL_7bb84038fbd1410abc49f75188e329a7",
              "IPY_MODEL_0eb7b3b598a9489e9c5fa089952a4752"
            ],
            "layout": "IPY_MODEL_dc859ce479944d27b5f984e933044699"
          }
        },
        "b8394ad6589145699257bb29edcdb9c6": {
          "model_module": "jupyterlab-plotly",
          "model_name": "FigureModel",
          "model_module_version": "^5.15.0",
          "state": {
            "_config": {
              "plotlyServerURL": "https://plot.ly"
            },
            "_data": [
              {
                "name": "Arrival Delays",
                "opacity": 0.75,
                "x": {
                  "dtype": "float64",
                  "shape": [
                    336776
                  ]
                },
                "type": "histogram",
                "uid": "f5264c7f-2975-44f9-bf77-b0ff5b8710a4"
              },
              {
                "name": "Departure Delays",
                "opacity": 0.75,
                "x": {
                  "dtype": "float64",
                  "shape": [
                    336776
                  ]
                },
                "type": "histogram",
                "uid": "f687afa3-d602-43fd-9c49-6e596813c641"
              }
            ],
            "_dom_classes": [],
            "_js2py_layoutDelta": null,
            "_js2py_pointsCallback": {},
            "_js2py_relayout": null,
            "_js2py_restyle": {},
            "_js2py_traceDeltas": null,
            "_js2py_update": {},
            "_last_layout_edit_id": 1,
            "_last_trace_edit_id": 0,
            "_layout": {
              "barmode": "overlay",
              "title": {
                "text": "NYC FlightDatabase"
              }
            },
            "_model_module": "jupyterlab-plotly",
            "_model_module_version": "^5.15.0",
            "_model_name": "FigureModel",
            "_py2js_addTraces": {},
            "_py2js_animate": {},
            "_py2js_deleteTraces": {},
            "_py2js_moveTraces": {},
            "_py2js_relayout": null,
            "_py2js_removeLayoutProps": {},
            "_py2js_removeTraceProps": {},
            "_py2js_restyle": {},
            "_py2js_update": {},
            "_view_count": 1,
            "_view_module": "jupyterlab-plotly",
            "_view_module_version": "^5.15.0",
            "_view_name": "FigureView"
          }
        },
        "e63bbe93e3e64a88b9a7bbb385baef5c": {
          "model_module": "@jupyter-widgets/base",
          "model_name": "LayoutModel",
          "model_module_version": "1.2.0",
          "state": {
            "_model_module": "@jupyter-widgets/base",
            "_model_module_version": "1.2.0",
            "_model_name": "LayoutModel",
            "_view_count": null,
            "_view_module": "@jupyter-widgets/base",
            "_view_module_version": "1.2.0",
            "_view_name": "LayoutView",
            "align_content": null,
            "align_items": null,
            "align_self": null,
            "border": null,
            "bottom": null,
            "display": null,
            "flex": null,
            "flex_flow": null,
            "grid_area": null,
            "grid_auto_columns": null,
            "grid_auto_flow": null,
            "grid_auto_rows": null,
            "grid_column": null,
            "grid_gap": null,
            "grid_row": null,
            "grid_template_areas": null,
            "grid_template_columns": null,
            "grid_template_rows": null,
            "height": null,
            "justify_content": null,
            "justify_items": null,
            "left": null,
            "margin": null,
            "max_height": null,
            "max_width": null,
            "min_height": null,
            "min_width": null,
            "object_fit": null,
            "object_position": null,
            "order": null,
            "overflow": null,
            "overflow_x": null,
            "overflow_y": null,
            "padding": null,
            "right": null,
            "top": null,
            "visibility": null,
            "width": null
          }
        },
        "25579094364b457fbf33287e9adca318": {
          "model_module": "@jupyter-widgets/controls",
          "model_name": "CheckboxModel",
          "model_module_version": "1.5.0",
          "state": {
            "_dom_classes": [],
            "_model_module": "@jupyter-widgets/controls",
            "_model_module_version": "1.5.0",
            "_model_name": "CheckboxModel",
            "_view_count": null,
            "_view_module": "@jupyter-widgets/controls",
            "_view_module_version": "1.5.0",
            "_view_name": "CheckboxView",
            "description": "Date: ",
            "description_tooltip": null,
            "disabled": false,
            "indent": true,
            "layout": "IPY_MODEL_09e223155a164587a6465b87b39c1f7c",
            "style": "IPY_MODEL_314b323c2a104dbdb2f65140bc70c3b0",
            "value": true
          }
        },
        "6ffe9252d9984f3d9d16c66aa692aa07": {
          "model_module": "@jupyter-widgets/controls",
          "model_name": "IntSliderModel",
          "model_module_version": "1.5.0",
          "state": {
            "_dom_classes": [],
            "_model_module": "@jupyter-widgets/controls",
            "_model_module_version": "1.5.0",
            "_model_name": "IntSliderModel",
            "_view_count": null,
            "_view_module": "@jupyter-widgets/controls",
            "_view_module_version": "1.5.0",
            "_view_name": "IntSliderView",
            "continuous_update": false,
            "description": "Month:",
            "description_tooltip": null,
            "disabled": false,
            "layout": "IPY_MODEL_476b27945f7a43a8971fd193c3590e3b",
            "max": 12,
            "min": 1,
            "orientation": "horizontal",
            "readout": true,
            "readout_format": "d",
            "step": 1,
            "style": "IPY_MODEL_7ea7b6ccdad64166b5f466c69b1dd492",
            "value": 1
          }
        },
        "0534597a077e4d6a94be250eae83f26a": {
          "model_module": "@jupyter-widgets/controls",
          "model_name": "ColorPickerModel",
          "model_module_version": "1.5.0",
          "state": {
            "_dom_classes": [],
            "_model_module": "@jupyter-widgets/controls",
            "_model_module_version": "1.5.0",
            "_model_name": "ColorPickerModel",
            "_view_count": null,
            "_view_module": "@jupyter-widgets/controls",
            "_view_module_version": "1.5.0",
            "_view_name": "ColorPickerView",
            "concise": false,
            "description": "",
            "description_tooltip": null,
            "disabled": false,
            "layout": "IPY_MODEL_c61cb44e65094785856471be4cce1d7c",
            "style": "IPY_MODEL_ba8403e1a791462d9a44b984eb9c4b69",
            "value": "black"
          }
        },
        "cf5cdf57a9924fb0bbb7d7ab5b1505ea": {
          "model_module": "@jupyter-widgets/controls",
          "model_name": "DatePickerModel",
          "model_module_version": "1.5.0",
          "state": {
            "_dom_classes": [],
            "_model_module": "@jupyter-widgets/controls",
            "_model_module_version": "1.5.0",
            "_model_name": "DatePickerModel",
            "_view_count": null,
            "_view_module": "@jupyter-widgets/controls",
            "_view_module_version": "1.5.0",
            "_view_name": "DatePickerView",
            "description": "",
            "description_tooltip": null,
            "disabled": false,
            "layout": "IPY_MODEL_380df12bcea4458e855f221e76a4f248",
            "style": "IPY_MODEL_89a31b6e0cdf4ca0bf77a1a4dcc875a9",
            "value": null
          }
        },
        "0bd888080d8741ad81bd86ebda6137a5": {
          "model_module": "@jupyter-widgets/base",
          "model_name": "LayoutModel",
          "model_module_version": "1.2.0",
          "state": {
            "_model_module": "@jupyter-widgets/base",
            "_model_module_version": "1.2.0",
            "_model_name": "LayoutModel",
            "_view_count": null,
            "_view_module": "@jupyter-widgets/base",
            "_view_module_version": "1.2.0",
            "_view_name": "LayoutView",
            "align_content": null,
            "align_items": null,
            "align_self": null,
            "border": null,
            "bottom": null,
            "display": null,
            "flex": null,
            "flex_flow": null,
            "grid_area": null,
            "grid_auto_columns": null,
            "grid_auto_flow": null,
            "grid_auto_rows": null,
            "grid_column": null,
            "grid_gap": null,
            "grid_row": null,
            "grid_template_areas": null,
            "grid_template_columns": null,
            "grid_template_rows": null,
            "height": null,
            "justify_content": null,
            "justify_items": null,
            "left": null,
            "margin": null,
            "max_height": null,
            "max_width": null,
            "min_height": null,
            "min_width": null,
            "object_fit": null,
            "object_position": null,
            "order": null,
            "overflow": null,
            "overflow_x": null,
            "overflow_y": null,
            "padding": null,
            "right": null,
            "top": null,
            "visibility": null,
            "width": null
          }
        },
        "7bb84038fbd1410abc49f75188e329a7": {
          "model_module": "@jupyter-widgets/controls",
          "model_name": "DropdownModel",
          "model_module_version": "1.5.0",
          "state": {
            "_dom_classes": [],
            "_model_module": "@jupyter-widgets/controls",
            "_model_module_version": "1.5.0",
            "_model_name": "DropdownModel",
            "_options_labels": [
              "EWR",
              "LGA",
              "JFK"
            ],
            "_view_count": null,
            "_view_module": "@jupyter-widgets/controls",
            "_view_module_version": "1.5.0",
            "_view_name": "DropdownView",
            "description": "Origin Airport:",
            "description_tooltip": null,
            "disabled": false,
            "index": 1,
            "layout": "IPY_MODEL_e618219df1db4e5b9d199f5e12856ebf",
            "style": "IPY_MODEL_c62d20780a7142ba990b0203c83bda61"
          }
        },
        "0eb7b3b598a9489e9c5fa089952a4752": {
          "model_module": "@jupyter-widgets/controls",
          "model_name": "DropdownModel",
          "model_module_version": "1.5.0",
          "state": {
            "_dom_classes": [],
            "_model_module": "@jupyter-widgets/controls",
            "_model_module_version": "1.5.0",
            "_model_name": "DropdownModel",
            "_options_labels": [
              "UA",
              "AA",
              "B6",
              "DL",
              "EV",
              "MQ",
              "US",
              "WN",
              "VX",
              "FL",
              "AS",
              "9E",
              "F9",
              "HA",
              "YV",
              "OO"
            ],
            "_view_count": null,
            "_view_module": "@jupyter-widgets/controls",
            "_view_module_version": "1.5.0",
            "_view_name": "DropdownView",
            "description": "Airline:   ",
            "description_tooltip": null,
            "disabled": false,
            "index": 3,
            "layout": "IPY_MODEL_03fca4a798fa42c29e3a6bd7e99c3641",
            "style": "IPY_MODEL_bdab4d3b01a54efc8f55784700325a73"
          }
        },
        "dc859ce479944d27b5f984e933044699": {
          "model_module": "@jupyter-widgets/base",
          "model_name": "LayoutModel",
          "model_module_version": "1.2.0",
          "state": {
            "_model_module": "@jupyter-widgets/base",
            "_model_module_version": "1.2.0",
            "_model_name": "LayoutModel",
            "_view_count": null,
            "_view_module": "@jupyter-widgets/base",
            "_view_module_version": "1.2.0",
            "_view_name": "LayoutView",
            "align_content": null,
            "align_items": null,
            "align_self": null,
            "border": null,
            "bottom": null,
            "display": null,
            "flex": null,
            "flex_flow": null,
            "grid_area": null,
            "grid_auto_columns": null,
            "grid_auto_flow": null,
            "grid_auto_rows": null,
            "grid_column": null,
            "grid_gap": null,
            "grid_row": null,
            "grid_template_areas": null,
            "grid_template_columns": null,
            "grid_template_rows": null,
            "height": null,
            "justify_content": null,
            "justify_items": null,
            "left": null,
            "margin": null,
            "max_height": null,
            "max_width": null,
            "min_height": null,
            "min_width": null,
            "object_fit": null,
            "object_position": null,
            "order": null,
            "overflow": null,
            "overflow_x": null,
            "overflow_y": null,
            "padding": null,
            "right": null,
            "top": null,
            "visibility": null,
            "width": null
          }
        },
        "09e223155a164587a6465b87b39c1f7c": {
          "model_module": "@jupyter-widgets/base",
          "model_name": "LayoutModel",
          "model_module_version": "1.2.0",
          "state": {
            "_model_module": "@jupyter-widgets/base",
            "_model_module_version": "1.2.0",
            "_model_name": "LayoutModel",
            "_view_count": null,
            "_view_module": "@jupyter-widgets/base",
            "_view_module_version": "1.2.0",
            "_view_name": "LayoutView",
            "align_content": null,
            "align_items": null,
            "align_self": null,
            "border": null,
            "bottom": null,
            "display": null,
            "flex": null,
            "flex_flow": null,
            "grid_area": null,
            "grid_auto_columns": null,
            "grid_auto_flow": null,
            "grid_auto_rows": null,
            "grid_column": null,
            "grid_gap": null,
            "grid_row": null,
            "grid_template_areas": null,
            "grid_template_columns": null,
            "grid_template_rows": null,
            "height": null,
            "justify_content": null,
            "justify_items": null,
            "left": null,
            "margin": null,
            "max_height": null,
            "max_width": null,
            "min_height": null,
            "min_width": null,
            "object_fit": null,
            "object_position": null,
            "order": null,
            "overflow": null,
            "overflow_x": null,
            "overflow_y": null,
            "padding": null,
            "right": null,
            "top": null,
            "visibility": null,
            "width": null
          }
        },
        "314b323c2a104dbdb2f65140bc70c3b0": {
          "model_module": "@jupyter-widgets/controls",
          "model_name": "DescriptionStyleModel",
          "model_module_version": "1.5.0",
          "state": {
            "_model_module": "@jupyter-widgets/controls",
            "_model_module_version": "1.5.0",
            "_model_name": "DescriptionStyleModel",
            "_view_count": null,
            "_view_module": "@jupyter-widgets/base",
            "_view_module_version": "1.2.0",
            "_view_name": "StyleView",
            "description_width": ""
          }
        },
        "476b27945f7a43a8971fd193c3590e3b": {
          "model_module": "@jupyter-widgets/base",
          "model_name": "LayoutModel",
          "model_module_version": "1.2.0",
          "state": {
            "_model_module": "@jupyter-widgets/base",
            "_model_module_version": "1.2.0",
            "_model_name": "LayoutModel",
            "_view_count": null,
            "_view_module": "@jupyter-widgets/base",
            "_view_module_version": "1.2.0",
            "_view_name": "LayoutView",
            "align_content": null,
            "align_items": null,
            "align_self": null,
            "border": null,
            "bottom": null,
            "display": null,
            "flex": null,
            "flex_flow": null,
            "grid_area": null,
            "grid_auto_columns": null,
            "grid_auto_flow": null,
            "grid_auto_rows": null,
            "grid_column": null,
            "grid_gap": null,
            "grid_row": null,
            "grid_template_areas": null,
            "grid_template_columns": null,
            "grid_template_rows": null,
            "height": null,
            "justify_content": null,
            "justify_items": null,
            "left": null,
            "margin": null,
            "max_height": null,
            "max_width": null,
            "min_height": null,
            "min_width": null,
            "object_fit": null,
            "object_position": null,
            "order": null,
            "overflow": null,
            "overflow_x": null,
            "overflow_y": null,
            "padding": null,
            "right": null,
            "top": null,
            "visibility": null,
            "width": null
          }
        },
        "7ea7b6ccdad64166b5f466c69b1dd492": {
          "model_module": "@jupyter-widgets/controls",
          "model_name": "SliderStyleModel",
          "model_module_version": "1.5.0",
          "state": {
            "_model_module": "@jupyter-widgets/controls",
            "_model_module_version": "1.5.0",
            "_model_name": "SliderStyleModel",
            "_view_count": null,
            "_view_module": "@jupyter-widgets/base",
            "_view_module_version": "1.2.0",
            "_view_name": "StyleView",
            "description_width": "",
            "handle_color": null
          }
        },
        "c61cb44e65094785856471be4cce1d7c": {
          "model_module": "@jupyter-widgets/base",
          "model_name": "LayoutModel",
          "model_module_version": "1.2.0",
          "state": {
            "_model_module": "@jupyter-widgets/base",
            "_model_module_version": "1.2.0",
            "_model_name": "LayoutModel",
            "_view_count": null,
            "_view_module": "@jupyter-widgets/base",
            "_view_module_version": "1.2.0",
            "_view_name": "LayoutView",
            "align_content": null,
            "align_items": null,
            "align_self": null,
            "border": null,
            "bottom": null,
            "display": null,
            "flex": null,
            "flex_flow": null,
            "grid_area": null,
            "grid_auto_columns": null,
            "grid_auto_flow": null,
            "grid_auto_rows": null,
            "grid_column": null,
            "grid_gap": null,
            "grid_row": null,
            "grid_template_areas": null,
            "grid_template_columns": null,
            "grid_template_rows": null,
            "height": null,
            "justify_content": null,
            "justify_items": null,
            "left": null,
            "margin": null,
            "max_height": null,
            "max_width": null,
            "min_height": null,
            "min_width": null,
            "object_fit": null,
            "object_position": null,
            "order": null,
            "overflow": null,
            "overflow_x": null,
            "overflow_y": null,
            "padding": null,
            "right": null,
            "top": null,
            "visibility": null,
            "width": null
          }
        },
        "ba8403e1a791462d9a44b984eb9c4b69": {
          "model_module": "@jupyter-widgets/controls",
          "model_name": "DescriptionStyleModel",
          "model_module_version": "1.5.0",
          "state": {
            "_model_module": "@jupyter-widgets/controls",
            "_model_module_version": "1.5.0",
            "_model_name": "DescriptionStyleModel",
            "_view_count": null,
            "_view_module": "@jupyter-widgets/base",
            "_view_module_version": "1.2.0",
            "_view_name": "StyleView",
            "description_width": ""
          }
        },
        "380df12bcea4458e855f221e76a4f248": {
          "model_module": "@jupyter-widgets/base",
          "model_name": "LayoutModel",
          "model_module_version": "1.2.0",
          "state": {
            "_model_module": "@jupyter-widgets/base",
            "_model_module_version": "1.2.0",
            "_model_name": "LayoutModel",
            "_view_count": null,
            "_view_module": "@jupyter-widgets/base",
            "_view_module_version": "1.2.0",
            "_view_name": "LayoutView",
            "align_content": null,
            "align_items": null,
            "align_self": null,
            "border": null,
            "bottom": null,
            "display": null,
            "flex": null,
            "flex_flow": null,
            "grid_area": null,
            "grid_auto_columns": null,
            "grid_auto_flow": null,
            "grid_auto_rows": null,
            "grid_column": null,
            "grid_gap": null,
            "grid_row": null,
            "grid_template_areas": null,
            "grid_template_columns": null,
            "grid_template_rows": null,
            "height": null,
            "justify_content": null,
            "justify_items": null,
            "left": null,
            "margin": null,
            "max_height": null,
            "max_width": null,
            "min_height": null,
            "min_width": null,
            "object_fit": null,
            "object_position": null,
            "order": null,
            "overflow": null,
            "overflow_x": null,
            "overflow_y": null,
            "padding": null,
            "right": null,
            "top": null,
            "visibility": null,
            "width": null
          }
        },
        "89a31b6e0cdf4ca0bf77a1a4dcc875a9": {
          "model_module": "@jupyter-widgets/controls",
          "model_name": "DescriptionStyleModel",
          "model_module_version": "1.5.0",
          "state": {
            "_model_module": "@jupyter-widgets/controls",
            "_model_module_version": "1.5.0",
            "_model_name": "DescriptionStyleModel",
            "_view_count": null,
            "_view_module": "@jupyter-widgets/base",
            "_view_module_version": "1.2.0",
            "_view_name": "StyleView",
            "description_width": ""
          }
        },
        "e618219df1db4e5b9d199f5e12856ebf": {
          "model_module": "@jupyter-widgets/base",
          "model_name": "LayoutModel",
          "model_module_version": "1.2.0",
          "state": {
            "_model_module": "@jupyter-widgets/base",
            "_model_module_version": "1.2.0",
            "_model_name": "LayoutModel",
            "_view_count": null,
            "_view_module": "@jupyter-widgets/base",
            "_view_module_version": "1.2.0",
            "_view_name": "LayoutView",
            "align_content": null,
            "align_items": null,
            "align_self": null,
            "border": null,
            "bottom": null,
            "display": null,
            "flex": null,
            "flex_flow": null,
            "grid_area": null,
            "grid_auto_columns": null,
            "grid_auto_flow": null,
            "grid_auto_rows": null,
            "grid_column": null,
            "grid_gap": null,
            "grid_row": null,
            "grid_template_areas": null,
            "grid_template_columns": null,
            "grid_template_rows": null,
            "height": null,
            "justify_content": null,
            "justify_items": null,
            "left": null,
            "margin": null,
            "max_height": null,
            "max_width": null,
            "min_height": null,
            "min_width": null,
            "object_fit": null,
            "object_position": null,
            "order": null,
            "overflow": null,
            "overflow_x": null,
            "overflow_y": null,
            "padding": null,
            "right": null,
            "top": null,
            "visibility": null,
            "width": null
          }
        },
        "c62d20780a7142ba990b0203c83bda61": {
          "model_module": "@jupyter-widgets/controls",
          "model_name": "DescriptionStyleModel",
          "model_module_version": "1.5.0",
          "state": {
            "_model_module": "@jupyter-widgets/controls",
            "_model_module_version": "1.5.0",
            "_model_name": "DescriptionStyleModel",
            "_view_count": null,
            "_view_module": "@jupyter-widgets/base",
            "_view_module_version": "1.2.0",
            "_view_name": "StyleView",
            "description_width": ""
          }
        },
        "03fca4a798fa42c29e3a6bd7e99c3641": {
          "model_module": "@jupyter-widgets/base",
          "model_name": "LayoutModel",
          "model_module_version": "1.2.0",
          "state": {
            "_model_module": "@jupyter-widgets/base",
            "_model_module_version": "1.2.0",
            "_model_name": "LayoutModel",
            "_view_count": null,
            "_view_module": "@jupyter-widgets/base",
            "_view_module_version": "1.2.0",
            "_view_name": "LayoutView",
            "align_content": null,
            "align_items": null,
            "align_self": null,
            "border": null,
            "bottom": null,
            "display": null,
            "flex": null,
            "flex_flow": null,
            "grid_area": null,
            "grid_auto_columns": null,
            "grid_auto_flow": null,
            "grid_auto_rows": null,
            "grid_column": null,
            "grid_gap": null,
            "grid_row": null,
            "grid_template_areas": null,
            "grid_template_columns": null,
            "grid_template_rows": null,
            "height": null,
            "justify_content": null,
            "justify_items": null,
            "left": null,
            "margin": null,
            "max_height": null,
            "max_width": null,
            "min_height": null,
            "min_width": null,
            "object_fit": null,
            "object_position": null,
            "order": null,
            "overflow": null,
            "overflow_x": null,
            "overflow_y": null,
            "padding": null,
            "right": null,
            "top": null,
            "visibility": null,
            "width": null
          }
        },
        "bdab4d3b01a54efc8f55784700325a73": {
          "model_module": "@jupyter-widgets/controls",
          "model_name": "DescriptionStyleModel",
          "model_module_version": "1.5.0",
          "state": {
            "_model_module": "@jupyter-widgets/controls",
            "_model_module_version": "1.5.0",
            "_model_name": "DescriptionStyleModel",
            "_view_count": null,
            "_view_module": "@jupyter-widgets/base",
            "_view_module_version": "1.2.0",
            "_view_name": "StyleView",
            "description_width": ""
          }
        }
      }
    }
  },
  "nbformat": 4,
  "nbformat_minor": 5
}